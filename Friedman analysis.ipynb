{
 "cells": [
  {
   "cell_type": "code",
   "execution_count": 7,
   "id": "8f487686",
   "metadata": {},
   "outputs": [],
   "source": [
    "import pandas as pd\n",
    "import numpy as np\n",
    "import seaborn as sns\n",
    "import sklearn\n",
    "from sklearn.metrics import classification_report \n",
    "from sklearn.metrics import confusion_matrix \n",
    "from sklearn.neighbors import KNeighborsClassifier\n",
    "from sklearn.model_selection import train_test_split\n",
    "import matplotlib.pyplot as plt\n",
    "\n",
    "%matplotlib inline"
   ]
  },
  {
   "cell_type": "code",
   "execution_count": 10,
   "id": "35eef2b0",
   "metadata": {},
   "outputs": [
    {
     "name": "stdout",
     "output_type": "stream",
     "text": [
      "Precision : 0.7912844932844932\n",
      "Recall    : 0.7920195041899796\n",
      "F1-score  : 0.7895718953899946\n",
      "accuracy  : 0.8474114441416893\n"
     ]
    }
   ],
   "source": [
    "#EFFICIENTNET\n",
    "import numpy as np\n",
    "\n",
    "# Example confusion matrix (3 classes)\n",
    "confusion_matrix=np.array([[114,2,5,6,0],[0,80,3,0,2],[3,6,52,7,3],[0,11,3,58,0],[0,1,0,4,7]])\n",
    "\n",
    "# Number of classes\n",
    "num_classes = len(confusion_matrix)\n",
    "\n",
    "# Constructing y_true and predicted vectors\n",
    "llist = []\n",
    "predictions= []\n",
    "\n",
    "for i in range(num_classes):\n",
    "    for j in range(num_classes):\n",
    "        llist.extend([i] * confusion_matrix[i, j])\n",
    "        predictions.extend([j] * confusion_matrix[i, j])\n",
    "precisiond = sklearn.metrics.precision_score(llist, predictions,average=\"macro\")\n",
    "print(\"Precision :\", precisiond)\n",
    "recalld = sklearn.metrics.recall_score(llist, predictions,average=\"macro\")\n",
    "print(\"Recall    :\", recalld)\n",
    "F1_scored = sklearn.metrics.f1_score(llist,predictions,average=\"macro\")\n",
    "print(\"F1-score  :\", F1_scored)\n",
    "accu = sklearn.metrics.accuracy_score(llist,predictions)\n",
    "print(\"accuracy  :\", accu)"
   ]
  },
  {
   "cell_type": "code",
   "execution_count": 12,
   "id": "536d500f",
   "metadata": {},
   "outputs": [
    {
     "name": "stdout",
     "output_type": "stream",
     "text": [
      "Precision : 0.7846891566701044\n",
      "Recall    : 0.7847293446181396\n",
      "F1-score  : 0.7815394631233282\n",
      "accuracy  : 0.8337874659400545\n"
     ]
    }
   ],
   "source": [
    "#MOBILENET\n",
    "import numpy as np\n",
    "\n",
    "# Example confusion matrix (3 classes)\n",
    "confusion_matrix = np.array([[112, 0, 3, 5, 1],\n",
    "                             [0, 83, 0, 2, 7],\n",
    "                             [17, 0, 60, 3, 2],\n",
    "                             [3, 4, 3, 38, 3],\n",
    "                             [3, 2, 3, 0, 13]])\n",
    "\n",
    "# Number of classes\n",
    "num_classes = len(confusion_matrix)\n",
    "\n",
    "# Constructing y_true and predicted vectors\n",
    "llist = []\n",
    "predictions= []\n",
    "\n",
    "for i in range(num_classes):\n",
    "    for j in range(num_classes):\n",
    "        llist.extend([i] * confusion_matrix[i, j])\n",
    "        predictions.extend([j] * confusion_matrix[i, j])\n",
    "precisiond = sklearn.metrics.precision_score(llist, predictions,average=\"macro\")\n",
    "print(\"Precision :\", precisiond)\n",
    "recalld = sklearn.metrics.recall_score(llist, predictions,average=\"macro\")\n",
    "print(\"Recall    :\", recalld)\n",
    "F1_scored = sklearn.metrics.f1_score(llist,predictions,average=\"macro\")\n",
    "print(\"F1-score  :\", F1_scored)\n",
    "accu = sklearn.metrics.accuracy_score(llist,predictions)\n",
    "print(\"accuracy  :\", accu)"
   ]
  },
  {
   "cell_type": "code",
   "execution_count": 14,
   "id": "e7a847b7",
   "metadata": {},
   "outputs": [
    {
     "name": "stdout",
     "output_type": "stream",
     "text": [
      "Precision : 0.7737162979195813\n",
      "Recall    : 0.7624006975566816\n",
      "F1-score  : 0.7639947954233669\n",
      "accuracy  : 0.779291553133515\n"
     ]
    }
   ],
   "source": [
    "#DENSENET\n",
    "import numpy as np\n",
    "\n",
    "# Example confusion matrix (3 classes)\n",
    "confusion_matrix=np.array([[92,29,0,2,3],[6,76,0,4,0],[13,0,22,1,5],[2,1,7,65,0],[1,3,4,0,31]])\n",
    "\n",
    "# Number of classes\n",
    "num_classes = len(confusion_matrix)\n",
    "\n",
    "# Constructing y_true and predicted vectors\n",
    "llist = []\n",
    "predictions= []\n",
    "\n",
    "for i in range(num_classes):\n",
    "    for j in range(num_classes):\n",
    "        llist.extend([i] * confusion_matrix[i, j])\n",
    "        predictions.extend([j] * confusion_matrix[i, j])\n",
    "precisiond = sklearn.metrics.precision_score(llist, predictions,average=\"macro\")\n",
    "print(\"Precision :\", precisiond)\n",
    "recalld = sklearn.metrics.recall_score(llist, predictions,average=\"macro\")\n",
    "print(\"Recall    :\", recalld)\n",
    "F1_scored = sklearn.metrics.f1_score(llist,predictions,average=\"macro\")\n",
    "print(\"F1-score  :\", F1_scored)\n",
    "accu = sklearn.metrics.accuracy_score(llist,predictions)\n",
    "print(\"accuracy  :\", accu)"
   ]
  },
  {
   "cell_type": "code",
   "execution_count": 15,
   "id": "89e67e2b",
   "metadata": {},
   "outputs": [
    {
     "name": "stdout",
     "output_type": "stream",
     "text": [
      "Precision : 0.7737162979195813\n",
      "Recall    : 0.7624006975566816\n",
      "F1-score  : 0.7639947954233669\n",
      "accuracy  : 0.779291553133515\n"
     ]
    }
   ],
   "source": [
    "#VGG\n",
    "import numpy as np\n",
    "\n",
    "# Example confusion matrix (3 classes)\n",
    "confusion_matrix2=np.array([[111,16,21,1,0],[0,85,0,2,4],[1,2,43,8,2],[2,9,1,21,3],[7,3,8,5,12]])\n",
    "\n",
    "# Number of classes\n",
    "num_classes = len(confusion_matrix2)\n",
    "\n",
    "# Constructing y_true and predicted vectors\n",
    "llist1 = []\n",
    "predictions1= []\n",
    "\n",
    "for i in range(num_classes):\n",
    "    for j in range(num_classes):\n",
    "        llist1.extend([i] * confusion_matrix2[i, j])\n",
    "        predictions1.extend([j] * confusion_matrix2[i, j])\n",
    "precisiond = sklearn.metrics.precision_score(llist, predictions,average=\"macro\")\n",
    "print(\"Precision :\", precisiond)\n",
    "recalld = sklearn.metrics.recall_score(llist, predictions,average=\"macro\")\n",
    "print(\"Recall    :\", recalld)\n",
    "F1_scored = sklearn.metrics.f1_score(llist,predictions,average=\"macro\")\n",
    "print(\"F1-score  :\", F1_scored)\n",
    "accu = sklearn.metrics.accuracy_score(llist,predictions)\n",
    "print(\"accuracy  :\", accu)"
   ]
  },
  {
   "cell_type": "code",
   "execution_count": 16,
   "id": "7c3e9e23",
   "metadata": {},
   "outputs": [
    {
     "name": "stdout",
     "output_type": "stream",
     "text": [
      "                      VGG  DENSENET  EFFICIENTNET  MOBILENET\n",
      "precision_score  0.676905  0.773716      0.791284   0.784689\n",
      "recall_score     0.674616  0.762401      0.792020   0.784729\n",
      "F1-score         0.663609  0.763995      0.789572   0.781539\n",
      "accuracy         0.741144  0.779292      0.847411   0.833787\n"
     ]
    }
   ],
   "source": [
    "import pandas as pd\n",
    "models_used = ['VGG', 'DENSENET','EFFICIENTNET','MOBILENET']\n",
    "DataL = ['precision_score','recall_score','F1-score','accuracy']\n",
    "df = pd.DataFrame([[0.6769046083139971, 0.7737162979195813, 0.7912844932844932, 0.7846891566701044], \n",
    "                   [0.6746159992133147, 0.7624006975566816, 0.7920195041899796, 0.7847293446181396],\n",
    "                   [0.6636091003320688, 0.7639947954233669, 0.7895718953899946, 0.7815394631233282],\n",
    "                   [0.7411444141689373, 0.779291553133515, 0.8474114441416893, 0.8337874659400545]],DataL,models_used)\n",
    "\n",
    "print(df)"
   ]
  },
  {
   "cell_type": "code",
   "execution_count": 17,
   "id": "65cd1f0d",
   "metadata": {},
   "outputs": [
    {
     "data": {
      "text/html": [
       "<div>\n",
       "<style scoped>\n",
       "    .dataframe tbody tr th:only-of-type {\n",
       "        vertical-align: middle;\n",
       "    }\n",
       "\n",
       "    .dataframe tbody tr th {\n",
       "        vertical-align: top;\n",
       "    }\n",
       "\n",
       "    .dataframe thead th {\n",
       "        text-align: right;\n",
       "    }\n",
       "</style>\n",
       "<table border=\"1\" class=\"dataframe\">\n",
       "  <thead>\n",
       "    <tr style=\"text-align: right;\">\n",
       "      <th></th>\n",
       "      <th>VGG</th>\n",
       "      <th>DENSENET</th>\n",
       "      <th>EFFICIENTNET</th>\n",
       "      <th>MOBILENET</th>\n",
       "    </tr>\n",
       "  </thead>\n",
       "  <tbody>\n",
       "    <tr>\n",
       "      <th>precision_score</th>\n",
       "      <td>1.0</td>\n",
       "      <td>2.0</td>\n",
       "      <td>4.0</td>\n",
       "      <td>3.0</td>\n",
       "    </tr>\n",
       "    <tr>\n",
       "      <th>recall_score</th>\n",
       "      <td>1.0</td>\n",
       "      <td>2.0</td>\n",
       "      <td>4.0</td>\n",
       "      <td>3.0</td>\n",
       "    </tr>\n",
       "    <tr>\n",
       "      <th>F1-score</th>\n",
       "      <td>1.0</td>\n",
       "      <td>2.0</td>\n",
       "      <td>4.0</td>\n",
       "      <td>3.0</td>\n",
       "    </tr>\n",
       "    <tr>\n",
       "      <th>accuracy</th>\n",
       "      <td>1.0</td>\n",
       "      <td>2.0</td>\n",
       "      <td>4.0</td>\n",
       "      <td>3.0</td>\n",
       "    </tr>\n",
       "  </tbody>\n",
       "</table>\n",
       "</div>"
      ],
      "text/plain": [
       "                 VGG  DENSENET  EFFICIENTNET  MOBILENET\n",
       "precision_score  1.0       2.0           4.0        3.0\n",
       "recall_score     1.0       2.0           4.0        3.0\n",
       "F1-score         1.0       2.0           4.0        3.0\n",
       "accuracy         1.0       2.0           4.0        3.0"
      ]
     },
     "execution_count": 17,
     "metadata": {},
     "output_type": "execute_result"
    }
   ],
   "source": [
    "df_rank= df.rank(axis=1,ascending=True)\n",
    "df_rank"
   ]
  },
  {
   "cell_type": "code",
   "execution_count": 18,
   "id": "de7bc321",
   "metadata": {},
   "outputs": [
    {
     "data": {
      "text/plain": [
       "FriedmanchisquareResult(statistic=12.0, pvalue=0.007383160505359769)"
      ]
     },
     "execution_count": 18,
     "metadata": {},
     "output_type": "execute_result"
    }
   ],
   "source": [
    "#friedman\n",
    "from scipy.stats import friedmanchisquare\n",
    "spRes = friedmanchisquare(df['VGG'], df['DENSENET'], df['EFFICIENTNET'],df['MOBILENET'])\n",
    "spRes"
   ]
  },
  {
   "cell_type": "code",
   "execution_count": null,
   "id": "06744060",
   "metadata": {},
   "outputs": [],
   "source": []
  }
 ],
 "metadata": {
  "kernelspec": {
   "display_name": "Python 3 (ipykernel)",
   "language": "python",
   "name": "python3"
  },
  "language_info": {
   "codemirror_mode": {
    "name": "ipython",
    "version": 3
   },
   "file_extension": ".py",
   "mimetype": "text/x-python",
   "name": "python",
   "nbconvert_exporter": "python",
   "pygments_lexer": "ipython3",
   "version": "3.9.12"
  }
 },
 "nbformat": 4,
 "nbformat_minor": 5
}
